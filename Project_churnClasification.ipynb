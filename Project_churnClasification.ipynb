{
 "cells": [
  {
   "cell_type": "code",
   "execution_count": 61,
   "metadata": {},
   "outputs": [],
   "source": [
    "import tensorflow as tf\n",
    "import numpy as np\n",
    "import matplotlib.pyplot as plt\n",
    "import pandas as pd\n",
    "\n",
    "import os\n"
   ]
  },
  {
   "cell_type": "code",
   "execution_count": 62,
   "metadata": {},
   "outputs": [],
   "source": [
    "#importing the dataset\n",
    "dataset = pd.read_csv('bank.csv')"
   ]
  },
  {
   "cell_type": "code",
   "execution_count": 63,
   "metadata": {},
   "outputs": [],
   "source": [
    "X = dataset.iloc[:,3:13].values # Credit Score through Estimated Salary\n",
    "y = dataset.iloc[:, 13].values # Exited"
   ]
  },
  {
   "cell_type": "code",
   "execution_count": 64,
   "metadata": {},
   "outputs": [
    {
     "name": "stdout",
     "output_type": "stream",
     "text": [
      "<class 'pandas.core.frame.DataFrame'>\n",
      "RangeIndex: 10000 entries, 0 to 9999\n",
      "Data columns (total 14 columns):\n",
      "RowNumber          10000 non-null int64\n",
      "CustomerId         10000 non-null int64\n",
      "Surname            10000 non-null object\n",
      "CreditScore        10000 non-null int64\n",
      "Geography          10000 non-null object\n",
      "Gender             10000 non-null object\n",
      "Age                10000 non-null int64\n",
      "Tenure             10000 non-null int64\n",
      "Balance            10000 non-null float64\n",
      "NumOfProducts      10000 non-null int64\n",
      "HasCrCard          10000 non-null int64\n",
      "IsActiveMember     10000 non-null int64\n",
      "EstimatedSalary    10000 non-null float64\n",
      "Exited             10000 non-null int64\n",
      "dtypes: float64(2), int64(9), object(3)\n",
      "memory usage: 1.1+ MB\n"
     ]
    }
   ],
   "source": [
    "dataset.info()"
   ]
  },
  {
   "cell_type": "code",
   "execution_count": 65,
   "metadata": {},
   "outputs": [
    {
     "name": "stdout",
     "output_type": "stream",
     "text": [
      "['France' 'Spain' 'France' 'France' 'Spain' 'Spain' 'France' 'Germany'] ............as \n",
      "[0 2 0 0 2 2 0 1]\n"
     ]
    }
   ],
   "source": [
    "# Encoding categorical (string based) data. Country: there are 3 options: France, Spain and Germany\n",
    "# This will convert those strings into scalar values for analysis\n",
    "print(X[:8,1], '............as ')\n",
    "from sklearn.preprocessing import LabelEncoder, OneHotEncoder\n",
    "label_X_country_encoder = LabelEncoder()\n",
    "X[:,1] = label_X_country_encoder.fit_transform(X[:,1])\n",
    "print(X[:8,1])"
   ]
  },
  {
   "cell_type": "code",
   "execution_count": 66,
   "metadata": {},
   "outputs": [
    {
     "name": "stdout",
     "output_type": "stream",
     "text": [
      "[0 2 0 0 2 2 0 1] ............as \n",
      "[0 0 0 0 0 1]\n"
     ]
    }
   ],
   "source": [
    "# Geneder to binary encoding\n",
    "print(X[:8,1], '............as ')\n",
    "from sklearn.preprocessing import LabelEncoder, OneHotEncoder\n",
    "label_X_gender_encoder = LabelEncoder()\n",
    "X[:,2] = label_X_gender_encoder.fit_transform(X[:,2])\n",
    "print(X[:6,2])"
   ]
  },
  {
   "cell_type": "code",
   "execution_count": 67,
   "metadata": {},
   "outputs": [],
   "source": [
    "countryhotencoder = OneHotEncoder(categorical_features = [1]) # 1 is the country column\n",
    "X = countryhotencoder.fit_transform(X).toarray()"
   ]
  },
  {
   "cell_type": "code",
   "execution_count": 68,
   "metadata": {},
   "outputs": [],
   "source": [
    "X = X[:,1:] "
   ]
  },
  {
   "cell_type": "code",
   "execution_count": 69,
   "metadata": {},
   "outputs": [],
   "source": [
    "\n",
    "\n",
    "# Splitting the dataset into the Training and Testing set.\n",
    "from sklearn.model_selection import train_test_split\n",
    "X_train, X_test, y_train, y_test = train_test_split(X,y, test_size = 0.2, random_state = 0)\n",
    "\n"
   ]
  },
  {
   "cell_type": "code",
   "execution_count": 70,
   "metadata": {},
   "outputs": [],
   "source": [
    "# Feature Scaling\n",
    "from sklearn.preprocessing import StandardScaler\n",
    "sc=StandardScaler()\n",
    "X_train = sc.fit_transform(X_train)\n",
    "X_test = sc.transform(X_test)"
   ]
  },
  {
   "cell_type": "code",
   "execution_count": 71,
   "metadata": {},
   "outputs": [],
   "source": [
    "#Initialize Sequential model\n",
    "model = tf.keras.models.Sequential()"
   ]
  },
  {
   "cell_type": "code",
   "execution_count": null,
   "metadata": {},
   "outputs": [],
   "source": []
  },
  {
   "cell_type": "code",
   "execution_count": 72,
   "metadata": {},
   "outputs": [],
   "source": [
    "# This adds the input layer (by specifying input dimension) AND the first hidden layer (units)\n",
    "model.add(tf.keras.layers.Dense(activation = 'relu', input_dim = 11, units=6, kernel_initializer='uniform'))"
   ]
  },
  {
   "cell_type": "code",
   "execution_count": 73,
   "metadata": {},
   "outputs": [],
   "source": [
    "# Adding the second hidden layer\n",
    "# Notice that we do not need to specify input dim. \n",
    "model.add(tf.keras.layers.Dense(activation = 'relu', units=6, kernel_initializer='uniform')) "
   ]
  },
  {
   "cell_type": "code",
   "execution_count": 74,
   "metadata": {},
   "outputs": [],
   "source": [
    "# Adding the output layer\n",
    "# Notice that we do not need to specify input dim. \n",
    "# we have an output of 1 node, which is the the desired dimensions of our output (stay with the bank or not)\n",
    "# We use the sigmoid because we want probability outcomes\n",
    "model.add(tf.keras.layers.Dense(activation = 'sigmoid', units=1, kernel_initializer='uniform')) "
   ]
  },
  {
   "cell_type": "markdown",
   "metadata": {},
   "source": [
    "\n",
    "Compiling the Neural Network"
   ]
  },
  {
   "cell_type": "code",
   "execution_count": 75,
   "metadata": {},
   "outputs": [],
   "source": [
    "model.compile(optimizer='adam', loss = 'binary_crossentropy', metrics=['accuracy'])"
   ]
  },
  {
   "cell_type": "markdown",
   "metadata": {},
   "source": [
    "Fitting the Neural Network"
   ]
  },
  {
   "cell_type": "code",
   "execution_count": 76,
   "metadata": {},
   "outputs": [
    {
     "name": "stdout",
     "output_type": "stream",
     "text": [
      "Epoch 1/50\n",
      "8000/8000 [==============================] - 1s 113us/step - loss: 1.2571 - acc: 0.6486\n",
      "Epoch 2/50\n",
      "8000/8000 [==============================] - 1s 67us/step - loss: 0.5118 - acc: 0.7964\n",
      "Epoch 3/50\n",
      "8000/8000 [==============================] - 1s 67us/step - loss: 0.4824 - acc: 0.7989\n",
      "Epoch 4/50\n",
      "8000/8000 [==============================] - 1s 67us/step - loss: 0.4632 - acc: 0.8011\n",
      "Epoch 5/50\n",
      "8000/8000 [==============================] - 1s 67us/step - loss: 0.4505 - acc: 0.8054\n",
      "Epoch 6/50\n",
      "8000/8000 [==============================] - 1s 69us/step - loss: 0.4386 - acc: 0.8120\n",
      "Epoch 7/50\n",
      "8000/8000 [==============================] - 1s 67us/step - loss: 0.4219 - acc: 0.8217\n",
      "Epoch 8/50\n",
      "8000/8000 [==============================] - 1s 69us/step - loss: 0.4022 - acc: 0.8336\n",
      "Epoch 9/50\n",
      "8000/8000 [==============================] - 1s 69us/step - loss: 0.3856 - acc: 0.8439\n",
      "Epoch 10/50\n",
      "8000/8000 [==============================] - 1s 67us/step - loss: 0.3745 - acc: 0.8482\n",
      "Epoch 11/50\n",
      "8000/8000 [==============================] - 1s 84us/step - loss: 0.3674 - acc: 0.8510\n",
      "Epoch 12/50\n",
      "8000/8000 [==============================] - 1s 84us/step - loss: 0.3625 - acc: 0.8534\n",
      "Epoch 13/50\n",
      "8000/8000 [==============================] - 1s 85us/step - loss: 0.3589 - acc: 0.8530\n",
      "Epoch 14/50\n",
      "8000/8000 [==============================] - 1s 75us/step - loss: 0.3564 - acc: 0.8551\n",
      "Epoch 15/50\n",
      "8000/8000 [==============================] - 1s 71us/step - loss: 0.3543 - acc: 0.8545\n",
      "Epoch 16/50\n",
      "8000/8000 [==============================] - 1s 69us/step - loss: 0.3525 - acc: 0.8560\n",
      "Epoch 17/50\n",
      "8000/8000 [==============================] - 1s 69us/step - loss: 0.3514 - acc: 0.8565\n",
      "Epoch 18/50\n",
      "8000/8000 [==============================] - 1s 69us/step - loss: 0.3507 - acc: 0.8566\n",
      "Epoch 19/50\n",
      "8000/8000 [==============================] - 1s 67us/step - loss: 0.3492 - acc: 0.8561\n",
      "Epoch 20/50\n",
      "8000/8000 [==============================] - 1s 69us/step - loss: 0.3493 - acc: 0.8572\n",
      "Epoch 21/50\n",
      "8000/8000 [==============================] - 1s 90us/step - loss: 0.3481 - acc: 0.8594\n",
      "Epoch 22/50\n",
      "8000/8000 [==============================] - 1s 77us/step - loss: 0.3477 - acc: 0.8581\n",
      "Epoch 23/50\n",
      "8000/8000 [==============================] - 1s 65us/step - loss: 0.3475 - acc: 0.8591\n",
      "Epoch 24/50\n",
      "8000/8000 [==============================] - 0s 61us/step - loss: 0.3473 - acc: 0.8580\n",
      "Epoch 25/50\n",
      "8000/8000 [==============================] - 0s 61us/step - loss: 0.3469 - acc: 0.8585\n",
      "Epoch 26/50\n",
      "8000/8000 [==============================] - 0s 60us/step - loss: 0.3466 - acc: 0.8577\n",
      "Epoch 27/50\n",
      "8000/8000 [==============================] - 0s 61us/step - loss: 0.3463 - acc: 0.8585\n",
      "Epoch 28/50\n",
      "8000/8000 [==============================] - 1s 63us/step - loss: 0.3457 - acc: 0.8589\n",
      "Epoch 29/50\n",
      "8000/8000 [==============================] - 1s 63us/step - loss: 0.3455 - acc: 0.8599\n",
      "Epoch 30/50\n",
      "8000/8000 [==============================] - 0s 61us/step - loss: 0.3448 - acc: 0.8615\n",
      "Epoch 31/50\n",
      "8000/8000 [==============================] - 0s 59us/step - loss: 0.3445 - acc: 0.8591\n",
      "Epoch 32/50\n",
      "8000/8000 [==============================] - 0s 59us/step - loss: 0.3445 - acc: 0.8592\n",
      "Epoch 33/50\n",
      "8000/8000 [==============================] - 0s 60us/step - loss: 0.3439 - acc: 0.8606\n",
      "Epoch 34/50\n",
      "8000/8000 [==============================] - 0s 61us/step - loss: 0.3436 - acc: 0.8591\n",
      "Epoch 35/50\n",
      "8000/8000 [==============================] - 0s 59us/step - loss: 0.3432 - acc: 0.8596\n",
      "Epoch 36/50\n",
      "8000/8000 [==============================] - 1s 63us/step - loss: 0.3428 - acc: 0.8634\n",
      "Epoch 37/50\n",
      "8000/8000 [==============================] - 0s 59us/step - loss: 0.3417 - acc: 0.8601\n",
      "Epoch 38/50\n",
      "8000/8000 [==============================] - 1s 67us/step - loss: 0.3415 - acc: 0.8620\n",
      "Epoch 39/50\n",
      "8000/8000 [==============================] - 0s 61us/step - loss: 0.3416 - acc: 0.8595\n",
      "Epoch 40/50\n",
      "8000/8000 [==============================] - 1s 67us/step - loss: 0.3406 - acc: 0.8612\n",
      "Epoch 41/50\n",
      "8000/8000 [==============================] - 1s 77us/step - loss: 0.3413 - acc: 0.8611\n",
      "Epoch 42/50\n",
      "8000/8000 [==============================] - 1s 69us/step - loss: 0.3408 - acc: 0.8620\n",
      "Epoch 43/50\n",
      "8000/8000 [==============================] - 1s 65us/step - loss: 0.3403 - acc: 0.8609\n",
      "Epoch 44/50\n",
      "8000/8000 [==============================] - 0s 59us/step - loss: 0.3400 - acc: 0.8602\n",
      "Epoch 45/50\n",
      "8000/8000 [==============================] - 0s 61us/step - loss: 0.3398 - acc: 0.8604\n",
      "Epoch 46/50\n",
      "8000/8000 [==============================] - 1s 79us/step - loss: 0.3397 - acc: 0.8609\n",
      "Epoch 47/50\n",
      "8000/8000 [==============================] - 1s 65us/step - loss: 0.3390 - acc: 0.8625\n",
      "Epoch 48/50\n",
      "8000/8000 [==============================] - 1s 65us/step - loss: 0.3388 - acc: 0.8622\n",
      "Epoch 49/50\n",
      "8000/8000 [==============================] - 1s 77us/step - loss: 0.3384 - acc: 0.8611\n",
      "Epoch 50/50\n",
      "8000/8000 [==============================] - 0s 61us/step - loss: 0.3388 - acc: 0.8629\n"
     ]
    },
    {
     "data": {
      "text/plain": [
       "<tensorflow.python.keras.callbacks.History at 0x1e48f55a5c0>"
      ]
     },
     "execution_count": 76,
     "metadata": {},
     "output_type": "execute_result"
    }
   ],
   "source": [
    "model.fit(X_train, y_train, batch_size=10, epochs=50)"
   ]
  },
  {
   "cell_type": "markdown",
   "metadata": {},
   "source": [
    "Testing the ANN"
   ]
  },
  {
   "cell_type": "code",
   "execution_count": 77,
   "metadata": {},
   "outputs": [
    {
     "name": "stdout",
     "output_type": "stream",
     "text": [
      "[[0.29103178]\n",
      " [0.33231422]\n",
      " [0.2262432 ]\n",
      " ...\n",
      " [0.19870453]\n",
      " [0.15371414]\n",
      " [0.14377767]]\n"
     ]
    }
   ],
   "source": [
    "y_pred = model.predict(X_test)\n",
    "print(y_pred)"
   ]
  },
  {
   "cell_type": "markdown",
   "metadata": {},
   "source": [
    "Making the Confusion Matrix"
   ]
  },
  {
   "cell_type": "code",
   "execution_count": 78,
   "metadata": {},
   "outputs": [
    {
     "name": "stdout",
     "output_type": "stream",
     "text": [
      "[[False]\n",
      " [False]\n",
      " [False]\n",
      " ...\n",
      " [False]\n",
      " [False]\n",
      " [False]]\n"
     ]
    }
   ],
   "source": [
    "y_pred = (y_pred > 0.5)\n",
    "print(y_pred)"
   ]
  },
  {
   "cell_type": "code",
   "execution_count": 79,
   "metadata": {},
   "outputs": [
    {
     "data": {
      "text/plain": [
       "numpy.ndarray"
      ]
     },
     "execution_count": 79,
     "metadata": {},
     "output_type": "execute_result"
    }
   ],
   "source": [
    "type(y_test)"
   ]
  },
  {
   "cell_type": "code",
   "execution_count": 80,
   "metadata": {},
   "outputs": [
    {
     "data": {
      "text/plain": [
       "numpy.ndarray"
      ]
     },
     "execution_count": 80,
     "metadata": {},
     "output_type": "execute_result"
    }
   ],
   "source": [
    "type(y_pred)"
   ]
  },
  {
   "cell_type": "code",
   "execution_count": 81,
   "metadata": {},
   "outputs": [],
   "source": [
    "from sklearn.metrics import confusion_matrix\n",
    "\n"
   ]
  },
  {
   "cell_type": "code",
   "execution_count": 82,
   "metadata": {},
   "outputs": [],
   "source": [
    "cm = confusion_matrix(y_test, y_pred)"
   ]
  },
  {
   "cell_type": "code",
   "execution_count": 83,
   "metadata": {},
   "outputs": [
    {
     "name": "stdout",
     "output_type": "stream",
     "text": [
      "85.35 % of testing data was classified correctly\n"
     ]
    }
   ],
   "source": [
    "\n",
    "\n",
    "print (((cm[0][0]+cm[1][1])*100)/(cm[0][0]+cm[1][1]+cm[0][1]+cm[1][0]), '% of testing data was classified correctly')\n",
    "\n"
   ]
  },
  {
   "cell_type": "code",
   "execution_count": null,
   "metadata": {},
   "outputs": [],
   "source": []
  }
 ],
 "metadata": {
  "kernelspec": {
   "display_name": "Python 3",
   "language": "python",
   "name": "python3"
  },
  "language_info": {
   "codemirror_mode": {
    "name": "ipython",
    "version": 3
   },
   "file_extension": ".py",
   "mimetype": "text/x-python",
   "name": "python",
   "nbconvert_exporter": "python",
   "pygments_lexer": "ipython3",
   "version": "3.6.5"
  }
 },
 "nbformat": 4,
 "nbformat_minor": 2
}
